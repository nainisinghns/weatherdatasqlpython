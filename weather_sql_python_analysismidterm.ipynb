{
 "cells": [
  {
   "cell_type": "code",
   "execution_count": 3,
   "id": "2921deff",
   "metadata": {},
   "outputs": [
    {
     "name": "stdout",
     "output_type": "stream",
     "text": [
      "SQL Result:\n",
      "   id\n",
      "0   2\n",
      "1   4\n",
      "\n",
      "Python Result:\n",
      "   id\n",
      "1   2\n",
      "3   4\n"
     ]
    }
   ],
   "source": [
    "# Importing necessary libraries\n",
    "import sqlite3\n",
    "import pandas as pd\n",
    "\n",
    "# Create a SQLite database\n",
    "conn = sqlite3.connect('weather.db')\n",
    "cur = conn.cursor()\n",
    "\n",
    "# Creating the Weather table\n",
    "cur.execute('DROP TABLE IF EXISTS Weather')\n",
    "cur.execute('''\n",
    "    CREATE TABLE Weather (\n",
    "        id INTEGER PRIMARY KEY,\n",
    "        recordDate DATE,\n",
    "        temperature INTEGER\n",
    "    )\n",
    "''')\n",
    "\n",
    "# Inserting data into the Weather table\n",
    "data = [\n",
    "    (1, '2015-01-01', 10),\n",
    "    (2, '2015-01-02', 25),\n",
    "    (3, '2015-01-03', 20),\n",
    "    (4, '2015-01-04', 30)\n",
    "]\n",
    "cur.executemany('INSERT INTO Weather (id, recordDate, temperature) VALUES (?, ?, ?)', data)\n",
    "\n",
    "# Commit changes and close connection\n",
    "conn.commit()\n",
    "\n",
    "# SQL Query to find IDs with higher temperatures than the previous day\n",
    "query = '''\n",
    "    SELECT w1.id \n",
    "    FROM Weather w1\n",
    "    JOIN Weather w2 ON w1.recordDate = DATE(w2.recordDate, '+1 day')\n",
    "    WHERE w1.temperature > w2.temperature\n",
    "'''\n",
    "\n",
    "# Executing the  SQL query\n",
    "cur.execute(query)\n",
    "sql_results = cur.fetchall()\n",
    "\n",
    "# Printing results from SQL\n",
    "print(\"SQL Result:\")\n",
    "sql_df = pd.DataFrame(sql_results, columns=['id'])\n",
    "print(sql_df)\n",
    "\n",
    "# Using pandas for the same logic\n",
    "# Creating a DataFrame from the original data\n",
    "df = pd.DataFrame(data, columns=['id', 'recordDate', 'temperature'])\n",
    "\n",
    "# Sorting DataFrame by date\n",
    "df['recordDate'] = pd.to_datetime(df['recordDate'])\n",
    "df = df.sort_values('recordDate')\n",
    "\n",
    "# Finding IDs with higher temperatures than previous dayy\n",
    "df['prev_temp'] = df['temperature'].shift(1)  # Adding previous day's temp\n",
    "result_df = df[df['temperature'] > df['prev_temp']]\n",
    "\n",
    "# Print results from Python\n",
    "\n",
    "print(\"\\nPython Result:\")\n",
    "print(result_df[['id']])\n",
    "\n",
    "# Closing the database connection\n",
    "conn.close()\n"
   ]
  }
 ],
 "metadata": {
  "kernelspec": {
   "display_name": "Python 3 (ipykernel)",
   "language": "python",
   "name": "python3"
  },
  "language_info": {
   "codemirror_mode": {
    "name": "ipython",
    "version": 3
   },
   "file_extension": ".py",
   "mimetype": "text/x-python",
   "name": "python",
   "nbconvert_exporter": "python",
   "pygments_lexer": "ipython3",
   "version": "3.9.16"
  }
 },
 "nbformat": 4,
 "nbformat_minor": 5
}
